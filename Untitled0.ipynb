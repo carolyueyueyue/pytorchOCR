{
  "nbformat": 4,
  "nbformat_minor": 0,
  "metadata": {
    "colab": {
      "name": "Untitled0.ipynb",
      "provenance": [],
      "toc_visible": true,
      "mount_file_id": "1PTv3rcBZIPEjtD9W-Xaawo8txtfVPdta",
      "authorship_tag": "ABX9TyMdnOVEFCDYHbySR/5BT3Ci",
      "include_colab_link": true
    },
    "kernelspec": {
      "name": "python3",
      "display_name": "Python 3"
    },
    "language_info": {
      "name": "python"
    },
    "accelerator": "GPU"
  },
  "cells": [
    {
      "cell_type": "markdown",
      "metadata": {
        "id": "view-in-github",
        "colab_type": "text"
      },
      "source": [
        "<a href=\"https://colab.research.google.com/github/carolyueyueyue/pytorchOCR/blob/master/Untitled0.ipynb\" target=\"_parent\"><img src=\"https://colab.research.google.com/assets/colab-badge.svg\" alt=\"Open In Colab\"/></a>"
      ]
    },
    {
      "cell_type": "code",
      "source": [
        "! pip3 install https://download.pytorch.org/whl/torch-1.7.1+cu101-cp36-cp36m-linux_x86_64\n",
        "! pip3 install torchvision\n"
      ],
      "metadata": {
        "colab": {
          "base_uri": "https://localhost:8080/"
        },
        "id": "t2LzgS2S3zdS",
        "outputId": "e90a251d-fa4f-483a-9a25-1bb508eb0820"
      },
      "execution_count": null,
      "outputs": [
        {
          "output_type": "stream",
          "name": "stdout",
          "text": [
            "Collecting https://download.pytorch.org/whl/torch-1.7.1+cu101-cp36-cp36m-linux_x86_64\n",
            "\u001b[31m  ERROR: HTTP error 403 while getting https://download.pytorch.org/whl/torch-1.7.1+cu101-cp36-cp36m-linux_x86_64\u001b[0m\n",
            "\u001b[31mERROR: Could not install requirement https://download.pytorch.org/whl/torch-1.7.1+cu101-cp36-cp36m-linux_x86_64 because of HTTP error 403 Client Error: Forbidden for url: https://download.pytorch.org/whl/torch-1.7.1+cu101-cp36-cp36m-linux_x86_64 for URL https://download.pytorch.org/whl/torch-1.7.1+cu101-cp36-cp36m-linux_x86_64\u001b[0m\n",
            "Requirement already satisfied: torchvision in /usr/local/lib/python3.7/dist-packages (0.11.1+cu111)\n",
            "Requirement already satisfied: pillow!=8.3.0,>=5.3.0 in /usr/local/lib/python3.7/dist-packages (from torchvision) (7.1.2)\n",
            "Requirement already satisfied: torch==1.10.0 in /usr/local/lib/python3.7/dist-packages (from torchvision) (1.10.0+cu111)\n",
            "Requirement already satisfied: numpy in /usr/local/lib/python3.7/dist-packages (from torchvision) (1.21.5)\n",
            "Requirement already satisfied: typing-extensions in /usr/local/lib/python3.7/dist-packages (from torch==1.10.0->torchvision) (3.10.0.2)\n"
          ]
        }
      ]
    },
    {
      "cell_type": "code",
      "source": [
        "! uname -a\n",
        "! python --version\n",
        "! nvcc --version"
      ],
      "metadata": {
        "colab": {
          "base_uri": "https://localhost:8080/"
        },
        "id": "UbscJXGL4945",
        "outputId": "89c9379e-2f35-4d57-bb22-88b1308ad743"
      },
      "execution_count": null,
      "outputs": [
        {
          "output_type": "stream",
          "name": "stdout",
          "text": [
            "Linux cda6b556f9ad 5.4.144+ #1 SMP Tue Dec 7 09:58:10 PST 2021 x86_64 x86_64 x86_64 GNU/Linux\n",
            "Python 3.7.13\n",
            "nvcc: NVIDIA (R) Cuda compiler driver\n",
            "Copyright (c) 2005-2020 NVIDIA Corporation\n",
            "Built on Mon_Oct_12_20:09:46_PDT_2020\n",
            "Cuda compilation tools, release 11.1, V11.1.105\n",
            "Build cuda_11.1.TC455_06.29190527_0\n"
          ]
        }
      ]
    },
    {
      "cell_type": "code",
      "source": [
        "import torch\n",
        "print(torch.__version__ )"
      ],
      "metadata": {
        "colab": {
          "base_uri": "https://localhost:8080/"
        },
        "id": "0G00IWO35aGh",
        "outputId": "b34c160c-3c22-4855-87ae-88c1f72e2a31"
      },
      "execution_count": null,
      "outputs": [
        {
          "output_type": "stream",
          "name": "stdout",
          "text": [
            "1.10.0+cu111\n"
          ]
        }
      ]
    },
    {
      "cell_type": "code",
      "source": [
        "!git clone http://github.com./WZMIAOMIAO/deep-learning-for-image-processing.git\n"
      ],
      "metadata": {
        "colab": {
          "base_uri": "https://localhost:8080/"
        },
        "id": "7g1v-Idh7tiV",
        "outputId": "2803f184-7142-4a31-9fbd-b5eda1605798"
      },
      "execution_count": null,
      "outputs": [
        {
          "output_type": "stream",
          "name": "stdout",
          "text": [
            "warning: redirecting to https://github.com/WZMIAOMIAO/deep-learning-for-image-processing.git/\n",
            "remote: Enumerating objects: 5329, done.\u001b[K\n",
            "remote: Counting objects: 100% (415/415), done.\u001b[K\n",
            "remote: Compressing objects: 100% (292/292), done.\u001b[K\n",
            "remote: Total 5329 (delta 208), reused 265 (delta 112), pack-reused 4914\u001b[K\n",
            "Receiving objects: 100% (5329/5329), 22.59 MiB | 18.33 MiB/s, done.\n",
            "Resolving deltas: 100% (3278/3278), done.\n"
          ]
        }
      ]
    },
    {
      "cell_type": "code",
      "source": [
        "!unzip -uq \"花集.7z\" -d \"/content/deep-learning-for-image-processing/data_set/flower_data\"\n"
      ],
      "metadata": {
        "colab": {
          "base_uri": "https://localhost:8080/"
        },
        "id": "H4kZymzq_Nct",
        "outputId": "94e02081-2979-477b-b6ce-429ec6ebf83f"
      },
      "execution_count": null,
      "outputs": [
        {
          "output_type": "stream",
          "name": "stdout",
          "text": [
            "unzip:  cannot find or open 花集.7z, 花集.7z.zip or 花集.7z.ZIP.\n"
          ]
        }
      ]
    },
    {
      "cell_type": "code",
      "source": [
        "!tar xf /content/deep-learning-for-image-processing/data_set/flower_data/flower_photos.tgz“flower_photos.tgz”"
      ],
      "metadata": {
        "colab": {
          "base_uri": "https://localhost:8080/"
        },
        "id": "A-bu58qPD8A-",
        "outputId": "97f34a61-552e-46c8-a9f7-d3a79ad76ec0"
      },
      "execution_count": null,
      "outputs": [
        {
          "output_type": "stream",
          "name": "stdout",
          "text": [
            "tar: /content/deep-learning-for-image-processing/data_set/flower_data/flower_photos.tgz“flower_photos.tgz”: Cannot open: No such file or directory\n",
            "tar: Error is not recoverable: exiting now\n"
          ]
        }
      ]
    },
    {
      "cell_type": "code",
      "source": [
        "!unzip -uq \"/content/deep-learning-for-image-processing/data_set/flower_data/flower_photos.zip\" -d \"/content/deep-learning-for-image-processing/data_set/flower_data\""
      ],
      "metadata": {
        "colab": {
          "base_uri": "https://localhost:8080/"
        },
        "id": "vqtDk6iTPBV9",
        "outputId": "1bd07d1f-7267-486e-f1a1-6743dbcd4ae7"
      },
      "execution_count": null,
      "outputs": [
        {
          "output_type": "stream",
          "name": "stdout",
          "text": [
            "unzip:  cannot find or open /content/deep-learning-for-image-processing/data_set/flower_data/flower_photos.zip, /content/deep-learning-for-image-processing/data_set/flower_data/flower_photos.zip.zip or /content/deep-learning-for-image-processing/data_set/flower_data/flower_photos.zip.ZIP.\n"
          ]
        }
      ]
    },
    {
      "cell_type": "code",
      "source": [
        "import os\n",
        "path=\"/content/drive/MyDrive/deep-learning-for-image-processing/pytorch_classification/Test2_alexnet\"\n",
        "os.chdir(path)\n",
        "os.listdir(path)\n"
      ],
      "metadata": {
        "colab": {
          "base_uri": "https://localhost:8080/"
        },
        "id": "K7oi_6PbRZMs",
        "outputId": "572f0008-3432-41b5-b299-0ed7b4cc1c50"
      },
      "execution_count": null,
      "outputs": [
        {
          "output_type": "execute_result",
          "data": {
            "text/plain": [
              "['model.py',\n",
              " 'train.py',\n",
              " 'predict.py',\n",
              " 'class_indices.json',\n",
              " '__pycache__',\n",
              " 'AlexNet.pth']"
            ]
          },
          "metadata": {},
          "execution_count": 26
        }
      ]
    },
    {
      "cell_type": "code",
      "source": [
        "! python train.py"
      ],
      "metadata": {
        "colab": {
          "base_uri": "https://localhost:8080/"
        },
        "id": "M5SYjuaKqIPA",
        "outputId": "03982b31-a03a-4bb1-c304-f2ef80bf6925"
      },
      "execution_count": null,
      "outputs": [
        {
          "output_type": "stream",
          "name": "stdout",
          "text": [
            "Traceback (most recent call last):\n",
            "  File \"train.py\", line 6, in <module>\n",
            "    from torch import T\n",
            "ImportError: cannot import name 'T' from 'torch' (/usr/local/lib/python3.7/dist-packages/torch/__init__.py)\n"
          ]
        }
      ]
    },
    {
      "cell_type": "code",
      "source": [
        "! python predict.py"
      ],
      "metadata": {
        "colab": {
          "base_uri": "https://localhost:8080/"
        },
        "id": "xFVh6AuMpvZ8",
        "outputId": "afc3151a-4d43-41a5-9d5c-8d2ed9d47a80"
      },
      "execution_count": null,
      "outputs": [
        {
          "output_type": "stream",
          "name": "stdout",
          "text": [
            "class: daisy        prob: 0.000312\n",
            "class: dandelion    prob: 9.44e-05\n",
            "class: roses        prob: 0.172\n",
            "class: sunflowers   prob: 0.00284\n",
            "class: tulips       prob: 0.825\n",
            "<Figure size 640x480 with 1 Axes>\n"
          ]
        }
      ]
    },
    {
      "cell_type": "code",
      "source": [
        "import os\n",
        "path=\"/content/drive/MyDrive/deep-learning-for-image-processing/pytorch_classification/Test5_resnet\"\n",
        "os.chdir(path)\n",
        "os.listdir(path)"
      ],
      "metadata": {
        "colab": {
          "base_uri": "https://localhost:8080/"
        },
        "id": "y4tH_DF3rj9u",
        "outputId": "8e5bb86a-978d-429a-a9f4-15060fb3aa02"
      },
      "execution_count": null,
      "outputs": [
        {
          "output_type": "execute_result",
          "data": {
            "text/plain": [
              "['load_weights.py',\n",
              " 'README.md',\n",
              " 'class_indices.json',\n",
              " 'predict.py',\n",
              " 'train.py',\n",
              " 'batch_predict.py',\n",
              " 'model.py',\n",
              " 'resnet34-pre.pth',\n",
              " '.ipynb_checkpoints']"
            ]
          },
          "metadata": {},
          "execution_count": 1
        }
      ]
    },
    {
      "cell_type": "code",
      "source": [
        "! python train.py"
      ],
      "metadata": {
        "colab": {
          "base_uri": "https://localhost:8080/"
        },
        "id": "xpTXkWMIXBkc",
        "outputId": "d2eed588-54da-469e-a99c-25a71f4ec541"
      },
      "execution_count": null,
      "outputs": [
        {
          "output_type": "stream",
          "name": "stdout",
          "text": [
            "using cuda:0 device.\n",
            "Using 2 dataloader workers every process\n",
            "using 3306 images for training, 364 images for validation.\n",
            "train epoch[1/3] loss:0.576: 100% 207/207 [09:06<00:00,  2.64s/it]\n",
            "valid epoch[1/3]: 100% 23/23 [00:37<00:00,  1.63s/it]\n",
            "[epoch 1] train_loss: 0.501  val_accuracy: 0.937\n",
            "train epoch[2/3] loss:0.438: 100% 207/207 [00:25<00:00,  8.04it/s]\n",
            "valid epoch[2/3]: 100% 23/23 [00:02<00:00, 10.61it/s]\n",
            "[epoch 2] train_loss: 0.341  val_accuracy: 0.937\n",
            "train epoch[3/3] loss:0.495: 100% 207/207 [00:25<00:00,  8.19it/s]\n",
            "valid epoch[3/3]: 100% 23/23 [00:02<00:00, 10.81it/s]\n",
            "[epoch 3] train_loss: 0.299  val_accuracy: 0.940\n",
            "Finished Training\n"
          ]
        }
      ]
    },
    {
      "cell_type": "code",
      "source": [
        "! python predict.py"
      ],
      "metadata": {
        "colab": {
          "base_uri": "https://localhost:8080/"
        },
        "id": "uko6o8EIW6X2",
        "outputId": "6e9254dd-c15f-45df-ed4d-543336715f8c"
      },
      "execution_count": null,
      "outputs": [
        {
          "output_type": "stream",
          "name": "stdout",
          "text": [
            "class: daisy        prob: 0.27\n",
            "class: dandelion    prob: 0.373\n",
            "class: roses        prob: 0.162\n",
            "class: sunflowers   prob: 0.000999\n",
            "class: tulips       prob: 0.194\n",
            "<Figure size 640x480 with 1 Axes>\n"
          ]
        }
      ]
    },
    {
      "cell_type": "code",
      "source": [
        "!git clone https://github.com/fh2019ustc/DocTr.git"
      ],
      "metadata": {
        "colab": {
          "base_uri": "https://localhost:8080/"
        },
        "id": "2yioMVx4Lpo0",
        "outputId": "930a87ab-e0d4-4bca-83cb-c83d61efdfb5"
      },
      "execution_count": null,
      "outputs": [
        {
          "output_type": "stream",
          "name": "stdout",
          "text": [
            "Cloning into 'DocTr'...\n",
            "remote: Enumerating objects: 211, done.\u001b[K\n",
            "remote: Counting objects: 100% (211/211), done.\u001b[K\n",
            "remote: Compressing objects: 100% (207/207), done.\u001b[K\n",
            "remote: Total 211 (delta 109), reused 4 (delta 0), pack-reused 0\u001b[K\n",
            "Receiving objects: 100% (211/211), 51.76 MiB | 21.23 MiB/s, done.\n",
            "Resolving deltas: 100% (109/109), done.\n"
          ]
        }
      ]
    },
    {
      "cell_type": "code",
      "source": [
        "import os\n",
        "path=\"/content/drive/MyDrive/DocTr\"\n",
        "os.chdir(path)\n",
        "os.listdir(path)\n"
      ],
      "metadata": {
        "colab": {
          "base_uri": "https://localhost:8080/"
        },
        "id": "S24oTnnLSxjX",
        "outputId": "82aa8f8f-13a8-4b4a-c039-fe50921b7e58"
      },
      "execution_count": null,
      "outputs": [
        {
          "output_type": "execute_result",
          "data": {
            "text/plain": [
              "['GeoTr.py',\n",
              " 'LICENSE',\n",
              " 'IllTr.py',\n",
              " 'DocTr_github.png',\n",
              " 'README.md',\n",
              " 'position_encoding.py',\n",
              " 'inference.py',\n",
              " 'ill_rec',\n",
              " 'seg.py',\n",
              " 'distorted',\n",
              " 'inference_ill.py',\n",
              " 'extractor.py',\n",
              " 'model_pretrained',\n",
              " 'geo_rec',\n",
              " '.git']"
            ]
          },
          "metadata": {},
          "execution_count": 2
        }
      ]
    },
    {
      "cell_type": "code",
      "source": [
        "! python inference.py"
      ],
      "metadata": {
        "id": "N0alqujhSKvA",
        "colab": {
          "base_uri": "https://localhost:8080/"
        },
        "outputId": "170777b6-efd8-4a00-b3ea-399f2d375656"
      },
      "execution_count": null,
      "outputs": [
        {
          "output_type": "stream",
          "name": "stdout",
          "text": [
            "python3: can't open file 'inference.py': [Errno 2] No such file or directory\n"
          ]
        }
      ]
    },
    {
      "cell_type": "code",
      "source": [
        "!unzip -uq \"/content/drive/MyDrive/PPT+Code.zip\" "
      ],
      "metadata": {
        "id": "GbZb8bbV86oX"
      },
      "execution_count": null,
      "outputs": []
    },
    {
      "cell_type": "code",
      "source": [
        "import os\n",
        "path=\"/content/drive/MyDrive/ctpn/ctpn.remote/utils/bbox\"\n",
        "os.chdir(path)\n",
        "os.listdir(path)"
      ],
      "metadata": {
        "colab": {
          "base_uri": "https://localhost:8080/"
        },
        "id": "YfFZGE0xDSmT",
        "outputId": "437c57d7-80c8-4c81-b76d-0708dd4a8491"
      },
      "execution_count": null,
      "outputs": [
        {
          "output_type": "execute_result",
          "data": {
            "text/plain": [
              "['setup.py',\n",
              " 'nms.cpython-37m-x86_64-linux-gnu.so',\n",
              " 'bbox.pyx',\n",
              " 'nms.pyx',\n",
              " '.fuse_hidden0000c4ff00000003',\n",
              " 'bbox.cpython-37m-x86_64-linux-gnu.so',\n",
              " 'bbox_transform.py',\n",
              " 'build',\n",
              " 'bbox.c',\n",
              " 'nms.c',\n",
              " 'make.sh']"
            ]
          },
          "metadata": {},
          "execution_count": 3
        }
      ]
    },
    {
      "cell_type": "code",
      "source": [
        "!python3 setup.py install\n"
      ],
      "metadata": {
        "colab": {
          "base_uri": "https://localhost:8080/"
        },
        "id": "U7PmKfzIDA-6",
        "outputId": "2b608b93-3289-4849-9ec4-a95a6acdaf99"
      },
      "execution_count": null,
      "outputs": [
        {
          "output_type": "stream",
          "name": "stdout",
          "text": [
            "running install\n",
            "running build\n",
            "running build_ext\n",
            "building 'bbox' extension\n",
            "x86_64-linux-gnu-gcc -pthread -Wno-unused-result -Wsign-compare -DNDEBUG -g -fwrapv -O2 -Wall -g -fdebug-prefix-map=/build/python3.7-dIfpci/python3.7-3.7.13=. -fstack-protector-strong -Wformat -Werror=format-security -g -fdebug-prefix-map=/build/python3.7-dIfpci/python3.7-3.7.13=. -fstack-protector-strong -Wformat -Werror=format-security -Wdate-time -D_FORTIFY_SOURCE=2 -fPIC -I/usr/local/lib/python3.7/dist-packages/numpy/core/include -I/usr/include/python3.7m -c bbox.c -o build/temp.linux-x86_64-3.7/bbox.o\n",
            "In file included from \u001b[01m\u001b[K/usr/local/lib/python3.7/dist-packages/numpy/core/include/numpy/ndarraytypes.h:1969:0\u001b[m\u001b[K,\n",
            "                 from \u001b[01m\u001b[K/usr/local/lib/python3.7/dist-packages/numpy/core/include/numpy/ndarrayobject.h:12\u001b[m\u001b[K,\n",
            "                 from \u001b[01m\u001b[K/usr/local/lib/python3.7/dist-packages/numpy/core/include/numpy/arrayobject.h:4\u001b[m\u001b[K,\n",
            "                 from \u001b[01m\u001b[Kbbox.c:700\u001b[m\u001b[K:\n",
            "\u001b[01m\u001b[K/usr/local/lib/python3.7/dist-packages/numpy/core/include/numpy/npy_1_7_deprecated_api.h:17:2:\u001b[m\u001b[K \u001b[01;35m\u001b[Kwarning: \u001b[m\u001b[K#warning \"Using deprecated NumPy API, disable it with \" \"#define NPY_NO_DEPRECATED_API NPY_1_7_API_VERSION\" [\u001b[01;35m\u001b[K-Wcpp\u001b[m\u001b[K]\n",
            " #\u001b[01;35m\u001b[Kwarning\u001b[m\u001b[K \"Using deprecated NumPy API, disable it with \" \\\n",
            "  \u001b[01;35m\u001b[K^~~~~~~\u001b[m\u001b[K\n",
            "x86_64-linux-gnu-gcc -pthread -shared -Wl,-O1 -Wl,-Bsymbolic-functions -Wl,-Bsymbolic-functions -Wl,-z,relro -Wl,-Bsymbolic-functions -Wl,-z,relro -g -fdebug-prefix-map=/build/python3.7-dIfpci/python3.7-3.7.13=. -fstack-protector-strong -Wformat -Werror=format-security -Wdate-time -D_FORTIFY_SOURCE=2 build/temp.linux-x86_64-3.7/bbox.o -o build/lib.linux-x86_64-3.7/bbox.cpython-37m-x86_64-linux-gnu.so\n",
            "running install_lib\n",
            "copying build/lib.linux-x86_64-3.7/bbox.cpython-37m-x86_64-linux-gnu.so -> /usr/local/lib/python3.7/dist-packages\n",
            "running install_egg_info\n",
            "Removing /usr/local/lib/python3.7/dist-packages/UNKNOWN-0.0.0.egg-info\n",
            "Writing /usr/local/lib/python3.7/dist-packages/UNKNOWN-0.0.0.egg-info\n",
            "running install\n",
            "running build\n",
            "running build_ext\n",
            "building 'nms' extension\n",
            "x86_64-linux-gnu-gcc -pthread -Wno-unused-result -Wsign-compare -DNDEBUG -g -fwrapv -O2 -Wall -g -fdebug-prefix-map=/build/python3.7-dIfpci/python3.7-3.7.13=. -fstack-protector-strong -Wformat -Werror=format-security -g -fdebug-prefix-map=/build/python3.7-dIfpci/python3.7-3.7.13=. -fstack-protector-strong -Wformat -Werror=format-security -Wdate-time -D_FORTIFY_SOURCE=2 -fPIC -I/usr/local/lib/python3.7/dist-packages/numpy/core/include -I/usr/include/python3.7m -c nms.c -o build/temp.linux-x86_64-3.7/nms.o\n",
            "In file included from \u001b[01m\u001b[K/usr/local/lib/python3.7/dist-packages/numpy/core/include/numpy/ndarraytypes.h:1969:0\u001b[m\u001b[K,\n",
            "                 from \u001b[01m\u001b[K/usr/local/lib/python3.7/dist-packages/numpy/core/include/numpy/ndarrayobject.h:12\u001b[m\u001b[K,\n",
            "                 from \u001b[01m\u001b[K/usr/local/lib/python3.7/dist-packages/numpy/core/include/numpy/arrayobject.h:4\u001b[m\u001b[K,\n",
            "                 from \u001b[01m\u001b[Knms.c:700\u001b[m\u001b[K:\n",
            "\u001b[01m\u001b[K/usr/local/lib/python3.7/dist-packages/numpy/core/include/numpy/npy_1_7_deprecated_api.h:17:2:\u001b[m\u001b[K \u001b[01;35m\u001b[Kwarning: \u001b[m\u001b[K#warning \"Using deprecated NumPy API, disable it with \" \"#define NPY_NO_DEPRECATED_API NPY_1_7_API_VERSION\" [\u001b[01;35m\u001b[K-Wcpp\u001b[m\u001b[K]\n",
            " #\u001b[01;35m\u001b[Kwarning\u001b[m\u001b[K \"Using deprecated NumPy API, disable it with \" \\\n",
            "  \u001b[01;35m\u001b[K^~~~~~~\u001b[m\u001b[K\n",
            "x86_64-linux-gnu-gcc -pthread -shared -Wl,-O1 -Wl,-Bsymbolic-functions -Wl,-Bsymbolic-functions -Wl,-z,relro -Wl,-Bsymbolic-functions -Wl,-z,relro -g -fdebug-prefix-map=/build/python3.7-dIfpci/python3.7-3.7.13=. -fstack-protector-strong -Wformat -Werror=format-security -Wdate-time -D_FORTIFY_SOURCE=2 build/temp.linux-x86_64-3.7/nms.o -o build/lib.linux-x86_64-3.7/nms.cpython-37m-x86_64-linux-gnu.so\n",
            "running install_lib\n",
            "copying build/lib.linux-x86_64-3.7/nms.cpython-37m-x86_64-linux-gnu.so -> /usr/local/lib/python3.7/dist-packages\n",
            "running install_egg_info\n",
            "Removing /usr/local/lib/python3.7/dist-packages/UNKNOWN-0.0.0.egg-info\n",
            "Writing /usr/local/lib/python3.7/dist-packages/UNKNOWN-0.0.0.egg-info\n"
          ]
        }
      ]
    },
    {
      "cell_type": "code",
      "source": [
        "!mv build/*/*.so ./"
      ],
      "metadata": {
        "id": "dRRGVmXEhCs7"
      },
      "execution_count": null,
      "outputs": []
    },
    {
      "cell_type": "code",
      "source": [
        "!rm -rf build/"
      ],
      "metadata": {
        "id": "MnHVc0Y5hgLo"
      },
      "execution_count": null,
      "outputs": []
    },
    {
      "cell_type": "code",
      "source": [
        "import os\n",
        "path=\"/content/drive/MyDrive/ctpn/ctpn.remote\"\n",
        "os.chdir(path)\n",
        "os.listdir(path)"
      ],
      "metadata": {
        "colab": {
          "base_uri": "https://localhost:8080/"
        },
        "id": "UOA7rsbbiV0_",
        "outputId": "0cb0caf9-bd9f-4f7a-ffed-4a604f02045d"
      },
      "execution_count": null,
      "outputs": [
        {
          "output_type": "execute_result",
          "data": {
            "text/plain": [
              "['README.md',\n",
              " 'inference.py',\n",
              " 'train.py',\n",
              " 'train.sh',\n",
              " 'cal_recall',\n",
              " '.idea',\n",
              " 'dataLoader',\n",
              " 'models',\n",
              " 'tools',\n",
              " 'result',\n",
              " 'utils',\n",
              " 'pre_model']"
            ]
          },
          "metadata": {},
          "execution_count": 17
        }
      ]
    },
    {
      "cell_type": "code",
      "source": [
        "!python train.sh"
      ],
      "metadata": {
        "colab": {
          "base_uri": "https://localhost:8080/"
        },
        "id": "y9a-MtS_ijb4",
        "outputId": "420338d5-ef89-4a80-d333-5e833559670f"
      },
      "execution_count": null,
      "outputs": [
        {
          "output_type": "stream",
          "name": "stdout",
          "text": [
            "  File \"train.sh\", line 1\n",
            "    CUDA_VISIBLE_DEVICES=1 nohup python -u train.py --base_model resnet50 --batch_size 2 --size_list 1048 &\n",
            "                               ^\n",
            "SyntaxError: invalid syntax\n"
          ]
        }
      ]
    },
    {
      "cell_type": "code",
      "source": [
        "!python train.py"
      ],
      "metadata": {
        "colab": {
          "base_uri": "https://localhost:8080/"
        },
        "id": "OfKkzRdni42j",
        "outputId": "a7d9db08-cfdf-48e6-c2c8-fd6e97af72f7"
      },
      "execution_count": null,
      "outputs": [
        {
          "output_type": "stream",
          "name": "stdout",
          "text": [
            "Traceback (most recent call last):\n",
            "  File \"train.py\", line 183, in <module>\n",
            "    main(args)\n",
            "  File \"train.py\", line 41, in main\n",
            "    dataset = IC15Loader(args.size_list)\n",
            "  File \"/content/drive/MyDrive/ctpn/ctpn.remote/dataLoader/dataLoad.py\", line 87, in __init__\n",
            "    self.train_size = size_list[-1]\n",
            "TypeError: 'int' object is not subscriptable\n"
          ]
        }
      ]
    },
    {
      "cell_type": "code",
      "source": [
        "!git clone https://github.com/WenmuZhou/PAN.pytorch.git"
      ],
      "metadata": {
        "colab": {
          "base_uri": "https://localhost:8080/"
        },
        "id": "YUHVPnJcWXCj",
        "outputId": "9be8767f-eab0-4dcd-9245-0206ee7ec018"
      },
      "execution_count": null,
      "outputs": [
        {
          "output_type": "stream",
          "name": "stdout",
          "text": [
            "Cloning into 'PAN.pytorch'...\n",
            "remote: Enumerating objects: 413, done.\u001b[K\n",
            "remote: Total 413 (delta 0), reused 0 (delta 0), pack-reused 413\u001b[K\n",
            "Receiving objects: 100% (413/413), 1.82 MiB | 9.82 MiB/s, done.\n",
            "Resolving deltas: 100% (213/213), done.\n"
          ]
        }
      ]
    },
    {
      "cell_type": "code",
      "source": [
        "! pip install pyclipper"
      ],
      "metadata": {
        "colab": {
          "base_uri": "https://localhost:8080/"
        },
        "id": "x7_PcgEFYfql",
        "outputId": "613aee0c-60cf-4fcf-eb48-2ec0c581591c"
      },
      "execution_count": null,
      "outputs": [
        {
          "output_type": "stream",
          "name": "stdout",
          "text": [
            "Collecting pyclipper\n",
            "  Downloading pyclipper-1.3.0.post2-cp37-cp37m-manylinux_2_5_x86_64.manylinux1_x86_64.whl (603 kB)\n",
            "\u001b[K     |████████████████████████████████| 603 kB 5.4 MB/s \n",
            "\u001b[?25hInstalling collected packages: pyclipper\n",
            "Successfully installed pyclipper-1.3.0.post2\n"
          ]
        }
      ]
    },
    {
      "cell_type": "code",
      "source": [
        "import cv2\n",
        "cv2.__version__\n"
      ],
      "metadata": {
        "colab": {
          "base_uri": "https://localhost:8080/",
          "height": 35
        },
        "id": "TCa2UyTbaoFR",
        "outputId": "23097bab-fc51-4516-d9b0-44f6c4c3124c"
      },
      "execution_count": null,
      "outputs": [
        {
          "output_type": "execute_result",
          "data": {
            "text/plain": [
              "'4.1.2'"
            ],
            "application/vnd.google.colaboratory.intrinsic+json": {
              "type": "string"
            }
          },
          "metadata": {},
          "execution_count": 4
        }
      ]
    },
    {
      "cell_type": "code",
      "source": [
        "!gcc --version\n"
      ],
      "metadata": {
        "colab": {
          "base_uri": "https://localhost:8080/"
        },
        "id": "IrRSvqS2dmUs",
        "outputId": "f030f652-3242-424d-8a76-af15db1de8ed"
      },
      "execution_count": null,
      "outputs": [
        {
          "output_type": "stream",
          "name": "stdout",
          "text": [
            "gcc (Ubuntu 7.5.0-3ubuntu1~18.04) 7.5.0\n",
            "Copyright (C) 2017 Free Software Foundation, Inc.\n",
            "This is free software; see the source for copying conditions.  There is NO\n",
            "warranty; not even for MERCHANTABILITY or FITNESS FOR A PARTICULAR PURPOSE.\n",
            "\n"
          ]
        }
      ]
    },
    {
      "cell_type": "code",
      "source": [
        "import os\n",
        "path=\"/content/drive/MyDrive/deep-learning-for-image-processing/pytorch_classification/custom_dataset\"\n",
        "os.chdir(path)\n",
        "os.listdir(path)"
      ],
      "metadata": {
        "colab": {
          "base_uri": "https://localhost:8080/"
        },
        "id": "_NRlHjEjru-1",
        "outputId": "72a27b86-a50e-4b02-fe53-7957b7402c38"
      },
      "execution_count": null,
      "outputs": [
        {
          "output_type": "execute_result",
          "data": {
            "text/plain": [
              "['main.py', 'utils.py', 'my_dataset.py']"
            ]
          },
          "metadata": {},
          "execution_count": 1
        }
      ]
    },
    {
      "cell_type": "code",
      "source": [
        "! pip install pyclipper"
      ],
      "metadata": {
        "colab": {
          "base_uri": "https://localhost:8080/"
        },
        "id": "yV7FGnbor2EK",
        "outputId": "e990c7b5-f1b6-42d6-a43f-1ec9fb768a66"
      },
      "execution_count": null,
      "outputs": [
        {
          "output_type": "stream",
          "name": "stdout",
          "text": [
            "Collecting pyclipper\n",
            "  Downloading pyclipper-1.3.0.post2-cp37-cp37m-manylinux_2_5_x86_64.manylinux1_x86_64.whl (603 kB)\n",
            "\u001b[?25l\r\u001b[K     |▌                               | 10 kB 15.6 MB/s eta 0:00:01\r\u001b[K     |█                               | 20 kB 11.7 MB/s eta 0:00:01\r\u001b[K     |█▋                              | 30 kB 9.2 MB/s eta 0:00:01\r\u001b[K     |██▏                             | 40 kB 8.3 MB/s eta 0:00:01\r\u001b[K     |██▊                             | 51 kB 4.8 MB/s eta 0:00:01\r\u001b[K     |███▎                            | 61 kB 5.7 MB/s eta 0:00:01\r\u001b[K     |███▉                            | 71 kB 5.6 MB/s eta 0:00:01\r\u001b[K     |████▍                           | 81 kB 5.5 MB/s eta 0:00:01\r\u001b[K     |████▉                           | 92 kB 6.1 MB/s eta 0:00:01\r\u001b[K     |█████▍                          | 102 kB 5.4 MB/s eta 0:00:01\r\u001b[K     |██████                          | 112 kB 5.4 MB/s eta 0:00:01\r\u001b[K     |██████▌                         | 122 kB 5.4 MB/s eta 0:00:01\r\u001b[K     |███████                         | 133 kB 5.4 MB/s eta 0:00:01\r\u001b[K     |███████▋                        | 143 kB 5.4 MB/s eta 0:00:01\r\u001b[K     |████████▏                       | 153 kB 5.4 MB/s eta 0:00:01\r\u001b[K     |████████▊                       | 163 kB 5.4 MB/s eta 0:00:01\r\u001b[K     |█████████▎                      | 174 kB 5.4 MB/s eta 0:00:01\r\u001b[K     |█████████▊                      | 184 kB 5.4 MB/s eta 0:00:01\r\u001b[K     |██████████▎                     | 194 kB 5.4 MB/s eta 0:00:01\r\u001b[K     |██████████▉                     | 204 kB 5.4 MB/s eta 0:00:01\r\u001b[K     |███████████▍                    | 215 kB 5.4 MB/s eta 0:00:01\r\u001b[K     |████████████                    | 225 kB 5.4 MB/s eta 0:00:01\r\u001b[K     |████████████▌                   | 235 kB 5.4 MB/s eta 0:00:01\r\u001b[K     |█████████████                   | 245 kB 5.4 MB/s eta 0:00:01\r\u001b[K     |█████████████▋                  | 256 kB 5.4 MB/s eta 0:00:01\r\u001b[K     |██████████████▏                 | 266 kB 5.4 MB/s eta 0:00:01\r\u001b[K     |██████████████▋                 | 276 kB 5.4 MB/s eta 0:00:01\r\u001b[K     |███████████████▏                | 286 kB 5.4 MB/s eta 0:00:01\r\u001b[K     |███████████████▊                | 296 kB 5.4 MB/s eta 0:00:01\r\u001b[K     |████████████████▎               | 307 kB 5.4 MB/s eta 0:00:01\r\u001b[K     |████████████████▉               | 317 kB 5.4 MB/s eta 0:00:01\r\u001b[K     |█████████████████▍              | 327 kB 5.4 MB/s eta 0:00:01\r\u001b[K     |██████████████████              | 337 kB 5.4 MB/s eta 0:00:01\r\u001b[K     |██████████████████▌             | 348 kB 5.4 MB/s eta 0:00:01\r\u001b[K     |███████████████████             | 358 kB 5.4 MB/s eta 0:00:01\r\u001b[K     |███████████████████▌            | 368 kB 5.4 MB/s eta 0:00:01\r\u001b[K     |████████████████████            | 378 kB 5.4 MB/s eta 0:00:01\r\u001b[K     |████████████████████▋           | 389 kB 5.4 MB/s eta 0:00:01\r\u001b[K     |█████████████████████▏          | 399 kB 5.4 MB/s eta 0:00:01\r\u001b[K     |█████████████████████▊          | 409 kB 5.4 MB/s eta 0:00:01\r\u001b[K     |██████████████████████▎         | 419 kB 5.4 MB/s eta 0:00:01\r\u001b[K     |██████████████████████▉         | 430 kB 5.4 MB/s eta 0:00:01\r\u001b[K     |███████████████████████▍        | 440 kB 5.4 MB/s eta 0:00:01\r\u001b[K     |████████████████████████        | 450 kB 5.4 MB/s eta 0:00:01\r\u001b[K     |████████████████████████▍       | 460 kB 5.4 MB/s eta 0:00:01\r\u001b[K     |█████████████████████████       | 471 kB 5.4 MB/s eta 0:00:01\r\u001b[K     |█████████████████████████▌      | 481 kB 5.4 MB/s eta 0:00:01\r\u001b[K     |██████████████████████████      | 491 kB 5.4 MB/s eta 0:00:01\r\u001b[K     |██████████████████████████▋     | 501 kB 5.4 MB/s eta 0:00:01\r\u001b[K     |███████████████████████████▏    | 512 kB 5.4 MB/s eta 0:00:01\r\u001b[K     |███████████████████████████▊    | 522 kB 5.4 MB/s eta 0:00:01\r\u001b[K     |████████████████████████████▎   | 532 kB 5.4 MB/s eta 0:00:01\r\u001b[K     |████████████████████████████▊   | 542 kB 5.4 MB/s eta 0:00:01\r\u001b[K     |█████████████████████████████▎  | 552 kB 5.4 MB/s eta 0:00:01\r\u001b[K     |█████████████████████████████▉  | 563 kB 5.4 MB/s eta 0:00:01\r\u001b[K     |██████████████████████████████▍ | 573 kB 5.4 MB/s eta 0:00:01\r\u001b[K     |███████████████████████████████ | 583 kB 5.4 MB/s eta 0:00:01\r\u001b[K     |███████████████████████████████▌| 593 kB 5.4 MB/s eta 0:00:01\r\u001b[K     |████████████████████████████████| 603 kB 5.4 MB/s \n",
            "\u001b[?25hInstalling collected packages: pyclipper\n",
            "Successfully installed pyclipper-1.3.0.post2\n"
          ]
        }
      ]
    },
    {
      "cell_type": "code",
      "source": [
        "!zip “img0.7z”"
      ],
      "metadata": {
        "colab": {
          "base_uri": "https://localhost:8080/"
        },
        "id": "TjNo8CS1q1oW",
        "outputId": "dca71f21-8864-4e3d-fd6d-8370110a603a"
      },
      "execution_count": null,
      "outputs": [
        {
          "output_type": "stream",
          "name": "stdout",
          "text": [
            "\n",
            "zip error: Nothing to do! (“img0.7z”)\n"
          ]
        }
      ]
    },
    {
      "cell_type": "code",
      "source": [
        "!git clone https://github.com/whai362/pan_pp.pytorch.git"
      ],
      "metadata": {
        "colab": {
          "base_uri": "https://localhost:8080/"
        },
        "id": "_ypTDtrDv3tv",
        "outputId": "da2a72cb-6c74-4ba6-cf11-129515be83f6"
      },
      "execution_count": 1,
      "outputs": [
        {
          "output_type": "stream",
          "name": "stdout",
          "text": [
            "Cloning into 'pan_pp.pytorch'...\n",
            "remote: Enumerating objects: 729, done.\u001b[K\n",
            "remote: Counting objects: 100% (729/729), done.\u001b[K\n",
            "remote: Compressing objects: 100% (357/357), done.\u001b[K\n",
            "remote: Total 729 (delta 409), reused 631 (delta 339), pack-reused 0\u001b[K\n",
            "Receiving objects: 100% (729/729), 821.62 KiB | 12.08 MiB/s, done.\n",
            "Resolving deltas: 100% (409/409), done.\n"
          ]
        }
      ]
    },
    {
      "cell_type": "code",
      "source": [
        "import numpy as np\n",
        "from matplotlib import pyplot as plt\n",
        "\n",
        "ys = 200 + np.random.randn(100)\n",
        "x = [x for x in range(len(ys))]\n",
        "\n",
        "plt.plot(x, ys, '-')\n",
        "plt.fill_between(x, ys, 195, where=(ys > 195), facecolor='g', alpha=0.6)\n",
        "\n",
        "plt.title(\"Sample Visualization\")\n",
        "plt.show()"
      ],
      "metadata": {
        "colab": {
          "base_uri": "https://localhost:8080/",
          "height": 281
        },
        "id": "RzNb9qXkxmko",
        "outputId": "815f8569-91db-453c-bf8d-19e89a884447"
      },
      "execution_count": 2,
      "outputs": [
        {
          "output_type": "display_data",
          "data": {
            "text/plain": [
              "<Figure size 432x288 with 1 Axes>"
            ],
            "image/png": "[encoded data removed]"
          },
          "metadata": {
            "needs_background": "light"
          }
        }
      ]
    },
    {
      "cell_type": "code",
      "source": [
        "import os\n",
        "path=\"/content/icdar2015.zip\"\n",
        "os.chdir(path)\n",
        "os.listdir(path)"
      ],
      "metadata": {
        "colab": {
          "base_uri": "https://localhost:8080/",
          "height": 219
        },
        "id": "TfRwfH9V5zBJ",
        "outputId": "1a0e7d09-2db4-469b-ed3e-e9b6c976e4fe"
      },
      "execution_count": 26,
      "outputs": [
        {
          "output_type": "error",
          "ename": "NotADirectoryError",
          "evalue": "ignored",
          "traceback": [
            "\u001b[0;31m---------------------------------------------------------------------------\u001b[0m",
            "\u001b[0;31mNotADirectoryError\u001b[0m                        Traceback (most recent call last)",
            "\u001b[0;32m<ipython-input-26-34b38676e523>\u001b[0m in \u001b[0;36m<module>\u001b[0;34m()\u001b[0m\n\u001b[1;32m      1\u001b[0m \u001b[0;32mimport\u001b[0m \u001b[0mos\u001b[0m\u001b[0;34m\u001b[0m\u001b[0;34m\u001b[0m\u001b[0m\n\u001b[1;32m      2\u001b[0m \u001b[0mpath\u001b[0m\u001b[0;34m=\u001b[0m\u001b[0;34m\"/content/icdar2015.zip\"\u001b[0m\u001b[0;34m\u001b[0m\u001b[0;34m\u001b[0m\u001b[0m\n\u001b[0;32m----> 3\u001b[0;31m \u001b[0mos\u001b[0m\u001b[0;34m.\u001b[0m\u001b[0mchdir\u001b[0m\u001b[0;34m(\u001b[0m\u001b[0mpath\u001b[0m\u001b[0;34m)\u001b[0m\u001b[0;34m\u001b[0m\u001b[0;34m\u001b[0m\u001b[0m\n\u001b[0m\u001b[1;32m      4\u001b[0m \u001b[0mos\u001b[0m\u001b[0;34m.\u001b[0m\u001b[0mlistdir\u001b[0m\u001b[0;34m(\u001b[0m\u001b[0mpath\u001b[0m\u001b[0;34m)\u001b[0m\u001b[0;34m\u001b[0m\u001b[0;34m\u001b[0m\u001b[0m\n",
            "\u001b[0;31mNotADirectoryError\u001b[0m: [Errno 20] Not a directory: '/content/icdar2015.zip'"
          ]
        }
      ]
    },
    {
      "cell_type": "code",
      "source": [
        "!zip -r \"icdar2015\""
      ],
      "metadata": {
        "colab": {
          "base_uri": "https://localhost:8080/"
        },
        "id": "y8BG3e6O5n5a",
        "outputId": "7bd7cac2-17a8-4826-e695-921cc669eb6c"
      },
      "execution_count": 31,
      "outputs": [
        {
          "output_type": "stream",
          "name": "stdout",
          "text": [
            "\n",
            "zip error: Nothing to do! (icdar2015.zip)\n"
          ]
        }
      ]
    },
    {
      "cell_type": "code",
      "source": [
        "import os\n",
        "path=\"/content/pan_pp.pytorch/models/post_processing/pa\"\n",
        "os.chdir(path)\n",
        "os.listdir(path)"
      ],
      "metadata": {
        "colab": {
          "base_uri": "https://localhost:8080/"
        },
        "id": "_EFUFbWWx4BD",
        "outputId": "49720e33-7d9c-41db-bfd8-1d7814d05e08"
      },
      "execution_count": 20,
      "outputs": [
        {
          "output_type": "execute_result",
          "data": {
            "text/plain": [
              "['__init__.py', 'pa.pyx', 'setup.py', 'pa.cpp', 'readme.txt']"
            ]
          },
          "metadata": {},
          "execution_count": 20
        }
      ]
    },
    {
      "cell_type": "code",
      "source": [
        "!python setup.py build_ext --inplace"
      ],
      "metadata": {
        "colab": {
          "base_uri": "https://localhost:8080/"
        },
        "id": "UZVQcGBX4qU8",
        "outputId": "cdcb237b-6a1a-4f6b-8c70-6abc591bc86e"
      },
      "execution_count": 22,
      "outputs": [
        {
          "output_type": "stream",
          "name": "stdout",
          "text": [
            "running build_ext\n",
            "building 'pa' extension\n",
            "creating build\n",
            "creating build/temp.linux-x86_64-3.7\n",
            "x86_64-linux-gnu-gcc -pthread -Wno-unused-result -Wsign-compare -DNDEBUG -g -fwrapv -O2 -Wall -g -fdebug-prefix-map=/build/python3.7-dIfpci/python3.7-3.7.13=. -fstack-protector-strong -Wformat -Werror=format-security -g -fdebug-prefix-map=/build/python3.7-dIfpci/python3.7-3.7.13=. -fstack-protector-strong -Wformat -Werror=format-security -Wdate-time -D_FORTIFY_SOURCE=2 -fPIC -I/usr/local/lib/python3.7/dist-packages/numpy/core/include -I/usr/include/python3.7m -c pa.cpp -o build/temp.linux-x86_64-3.7/pa.o -O3\n",
            "In file included from \u001b[01m\u001b[K/usr/local/lib/python3.7/dist-packages/numpy/core/include/numpy/ndarraytypes.h:1969:0\u001b[m\u001b[K,\n",
            "                 from \u001b[01m\u001b[K/usr/local/lib/python3.7/dist-packages/numpy/core/include/numpy/ndarrayobject.h:12\u001b[m\u001b[K,\n",
            "                 from \u001b[01m\u001b[K/usr/local/lib/python3.7/dist-packages/numpy/core/include/numpy/arrayobject.h:4\u001b[m\u001b[K,\n",
            "                 from \u001b[01m\u001b[Kpa.cpp:647\u001b[m\u001b[K:\n",
            "\u001b[01m\u001b[K/usr/local/lib/python3.7/dist-packages/numpy/core/include/numpy/npy_1_7_deprecated_api.h:17:2:\u001b[m\u001b[K \u001b[01;35m\u001b[Kwarning: \u001b[m\u001b[K#warning \"Using deprecated NumPy API, disable it with \" \"#define NPY_NO_DEPRECATED_API NPY_1_7_API_VERSION\" [\u001b[01;35m\u001b[K-Wcpp\u001b[m\u001b[K]\n",
            " #\u001b[01;35m\u001b[Kwarning\u001b[m\u001b[K \"Using deprecated NumPy API, disable it with \" \\\n",
            "  \u001b[01;35m\u001b[K^~~~~~~\u001b[m\u001b[K\n",
            "x86_64-linux-gnu-g++ -pthread -shared -Wl,-O1 -Wl,-Bsymbolic-functions -Wl,-Bsymbolic-functions -Wl,-z,relro -Wl,-Bsymbolic-functions -Wl,-z,relro -g -fdebug-prefix-map=/build/python3.7-dIfpci/python3.7-3.7.13=. -fstack-protector-strong -Wformat -Werror=format-security -Wdate-time -D_FORTIFY_SOURCE=2 build/temp.linux-x86_64-3.7/pa.o -o /content/pan_pp.pytorch/models/post_processing/pa/pa.cpython-37m-x86_64-linux-gnu.so\n"
          ]
        }
      ]
    },
    {
      "cell_type": "code",
      "source": [
        "import os\n",
        "path=\"/content/pan_pp.pytorch/models/post_processing/pse\"\n",
        "os.chdir(path)\n",
        "os.listdir(path)"
      ],
      "metadata": {
        "colab": {
          "base_uri": "https://localhost:8080/"
        },
        "id": "VnHuW70h5XPN",
        "outputId": "e5aed393-0796-4466-e3ad-a8100598ee99"
      },
      "execution_count": 23,
      "outputs": [
        {
          "output_type": "execute_result",
          "data": {
            "text/plain": [
              "['__init__.py', 'setup.py', 'pse.cpp', 'pse.pyx', 'readme.txt']"
            ]
          },
          "metadata": {},
          "execution_count": 23
        }
      ]
    },
    {
      "cell_type": "code",
      "source": [
        "!python setup.py build_ext --inplace"
      ],
      "metadata": {
        "colab": {
          "base_uri": "https://localhost:8080/"
        },
        "id": "GPCvjod45dqw",
        "outputId": "c1461ced-d2ff-40b2-e402-48581ba5ef14"
      },
      "execution_count": 24,
      "outputs": [
        {
          "output_type": "stream",
          "name": "stdout",
          "text": [
            "running build_ext\n",
            "building 'pse' extension\n",
            "creating build\n",
            "creating build/temp.linux-x86_64-3.7\n",
            "x86_64-linux-gnu-gcc -pthread -Wno-unused-result -Wsign-compare -DNDEBUG -g -fwrapv -O2 -Wall -g -fdebug-prefix-map=/build/python3.7-dIfpci/python3.7-3.7.13=. -fstack-protector-strong -Wformat -Werror=format-security -g -fdebug-prefix-map=/build/python3.7-dIfpci/python3.7-3.7.13=. -fstack-protector-strong -Wformat -Werror=format-security -Wdate-time -D_FORTIFY_SOURCE=2 -fPIC -I/usr/local/lib/python3.7/dist-packages/numpy/core/include -I/usr/include/python3.7m -c pse.cpp -o build/temp.linux-x86_64-3.7/pse.o -O3\n",
            "In file included from \u001b[01m\u001b[K/usr/local/lib/python3.7/dist-packages/numpy/core/include/numpy/ndarraytypes.h:1969:0\u001b[m\u001b[K,\n",
            "                 from \u001b[01m\u001b[K/usr/local/lib/python3.7/dist-packages/numpy/core/include/numpy/ndarrayobject.h:12\u001b[m\u001b[K,\n",
            "                 from \u001b[01m\u001b[K/usr/local/lib/python3.7/dist-packages/numpy/core/include/numpy/arrayobject.h:4\u001b[m\u001b[K,\n",
            "                 from \u001b[01m\u001b[Kpse.cpp:647\u001b[m\u001b[K:\n",
            "\u001b[01m\u001b[K/usr/local/lib/python3.7/dist-packages/numpy/core/include/numpy/npy_1_7_deprecated_api.h:17:2:\u001b[m\u001b[K \u001b[01;35m\u001b[Kwarning: \u001b[m\u001b[K#warning \"Using deprecated NumPy API, disable it with \" \"#define NPY_NO_DEPRECATED_API NPY_1_7_API_VERSION\" [\u001b[01;35m\u001b[K-Wcpp\u001b[m\u001b[K]\n",
            " #\u001b[01;35m\u001b[Kwarning\u001b[m\u001b[K \"Using deprecated NumPy API, disable it with \" \\\n",
            "  \u001b[01;35m\u001b[K^~~~~~~\u001b[m\u001b[K\n",
            "x86_64-linux-gnu-g++ -pthread -shared -Wl,-O1 -Wl,-Bsymbolic-functions -Wl,-Bsymbolic-functions -Wl,-z,relro -Wl,-Bsymbolic-functions -Wl,-z,relro -g -fdebug-prefix-map=/build/python3.7-dIfpci/python3.7-3.7.13=. -fstack-protector-strong -Wformat -Werror=format-security -Wdate-time -D_FORTIFY_SOURCE=2 build/temp.linux-x86_64-3.7/pse.o -o /content/pan_pp.pytorch/models/post_processing/pse/pse.cpython-37m-x86_64-linux-gnu.so\n"
          ]
        }
      ]
    }
  ]
}